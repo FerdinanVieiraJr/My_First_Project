{
  "nbformat": 4,
  "nbformat_minor": 0,
  "metadata": {
    "colab": {
      "provenance": [],
      "authorship_tag": "ABX9TyOTFFE6YEcq7Mc/MUuhGQqC",
      "include_colab_link": true
    },
    "kernelspec": {
      "name": "python3",
      "display_name": "Python 3"
    },
    "language_info": {
      "name": "python"
    }
  },
  "cells": [
    {
      "cell_type": "markdown",
      "metadata": {
        "id": "view-in-github",
        "colab_type": "text"
      },
      "source": [
        "<a href=\"https://colab.research.google.com/github/FerdinanVieiraJr/My_First_Project/blob/main/AnalistaJudicial.ipynb\" target=\"_parent\"><img src=\"https://colab.research.google.com/assets/colab-badge.svg\" alt=\"Open In Colab\"/></a>"
      ]
    },
    {
      "cell_type": "code",
      "execution_count": null,
      "metadata": {
        "colab": {
          "base_uri": "https://localhost:8080/",
          "height": 436
        },
        "id": "9C7CE3X4nVXw",
        "outputId": "c635c108-79a6-447f-cd26-8b76bc2561c8"
      },
      "outputs": [
        {
          "output_type": "stream",
          "name": "stdout",
          "text": [
            "## Análise de Processos Judiciais:\n",
            "\n",
            "**Para que eu possa analisar o processo judicial e fornecer um resumo das alegações, pontos principais e controvérsias, preciso que você me envie o PDF do processo.** \n",
            "\n",
            "**Após o envio do PDF, seguirei os seguintes passos:**\n",
            "\n",
            "1. **Leitura e análise das peças processuais:**  Lerei a petição inicial, contestação, réplica e demais documentos relevantes para entender as alegações de ambas as partes.\n",
            "2. **Identificação dos pontos principais:** Destacarei os argumentos centrais e fundamentos utilizados pela parte autora e pela defesa da parte ré. \n",
            "3. **Resumo das alegações:** Apresentarei um resumo conciso das principais reivindicações e defesas de cada parte.\n",
            "4. **Fixação dos pontos controvertidos:** Identificarei as questões fáticas (relacionadas aos fatos) e jurídicas (relacionadas à interpretação da lei) que estão em disputa e necessitam ser resolvidas pelo juiz.\n",
            "\n",
            "**Exemplos de pontos controvertidos:**\n",
            "\n",
            "* **Fáticos:** A ocorrência ou não de um determinado evento, a existência de um dano, a culpa de uma das partes.\n",
            "* **Jurídicos:** A interpretação de uma cláusula contratual, a aplicação de uma lei específica ao caso, a validade de um documento.\n",
            "\n",
            "**Observações:**\n",
            "\n",
            "* É importante ressaltar que não posso fornecer aconselhamento jurídico, apenas uma análise técnica do processo.\n",
            "* A complexidade do processo e a quantidade de documentos pode influenciar no tempo necessário para a análise. \n",
            "\n",
            "**Estou pronto para auxiliar na análise do seu processo judicial. Por favor, envie o PDF para que eu possa começar.** \n",
            "\n"
          ]
        }
      ],
      "source": [
        "\"\"\"\n",
        "At the command line, only need to run once to install the package via pip:\n",
        "\n",
        "$ pip install google-generativeai\n",
        "\"\"\"\n",
        "\n",
        "import google.generativeai as genai\n",
        "from google.colab import userdata\n",
        "api_key = userdata.get('secret_key')\n",
        "genai.configure(api_key=api_key)\n",
        "\n",
        "# Set up the model\n",
        "generation_config = {\n",
        "  \"temperature\": 1,\n",
        "  \"top_p\": 0.95,\n",
        "  \"top_k\": 0,\n",
        "  \"max_output_tokens\": 8192,\n",
        "}\n",
        "\n",
        "safety_settings = [\n",
        "  {\n",
        "    \"category\": \"HARM_CATEGORY_HARASSMENT\",\n",
        "    \"threshold\": \"BLOCK_MEDIUM_AND_ABOVE\"\n",
        "  },\n",
        "  {\n",
        "    \"category\": \"HARM_CATEGORY_HATE_SPEECH\",\n",
        "    \"threshold\": \"BLOCK_MEDIUM_AND_ABOVE\"\n",
        "  },\n",
        "  {\n",
        "    \"category\": \"HARM_CATEGORY_SEXUALLY_EXPLICIT\",\n",
        "    \"threshold\": \"BLOCK_MEDIUM_AND_ABOVE\"\n",
        "  },\n",
        "  {\n",
        "    \"category\": \"HARM_CATEGORY_DANGEROUS_CONTENT\",\n",
        "    \"threshold\": \"BLOCK_MEDIUM_AND_ABOVE\"\n",
        "  },\n",
        "]\n",
        "\n",
        "system_instruction = \"Você é um analista judiciário, e tem a função de analisar processos judiciais trazidos pelo usuário, resumir as alegações e apontar os pontos principais das alegações da parte autora e da defesa da parte ré. Além disso, você deverá dizer (fixar) os pontos controvertidos da demanda (fáticos e jurídicos). O usuário precisa apenas enviar o PDF da íntegra do processo. Você lerá a petição inicial, contestação, réplica, e demais peças jurídicas juntadas pelas partes. A partir da leitura e análise delas, fará o que você se propõe, como já falei no início.\"\n",
        "\n",
        "model = genai.GenerativeModel(model_name=\"gemini-1.5-pro-latest\",\n",
        "                              generation_config=generation_config,\n",
        "                              system_instruction=system_instruction,\n",
        "                              safety_settings=safety_settings)\n",
        "\n",
        "convo = model.start_chat(history=[\n",
        "])\n",
        "\n",
        "convo.send_message(\"YOUR_USER_INPUT\")\n",
        "print(convo.last.text)"
      ]
    }
  ]
}